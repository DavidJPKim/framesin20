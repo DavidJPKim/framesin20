{
 "cells": [
  {
   "cell_type": "code",
   "execution_count": 1,
   "metadata": {},
   "outputs": [],
   "source": [
    "import skvideo.io\n",
    "import skvideo.datasets\n",
    "import numpy as np\n",
    "import cv2\n",
    "import os"
   ]
  },
  {
   "cell_type": "code",
   "execution_count": null,
   "metadata": {},
   "outputs": [],
   "source": [
    "#the goal of this program is to divide a video into ~20 different frames"
   ]
  },
  {
   "cell_type": "code",
   "execution_count": 10,
   "metadata": {},
   "outputs": [
    {
     "name": "stdout",
     "output_type": "stream",
     "text": [
      "Directory  v_YoYo_g01_c03  Created \n"
     ]
    }
   ],
   "source": [
    "# Create directory\n",
    "vid = 'insert video name here'\n",
    "try:\n",
    "    # Create target Directory\n",
    "    os.mkdir(vid[:-4])\n",
    "    print(\"Directory \" , vid[:-4] ,  \" Created \") \n",
    "except FileExistsError:\n",
    "    print(\"Directory \" , vid[:-4] ,  \" already exists\")\n",
    "#Gets current path\n",
    "path = os.getcwd()\n",
    "#lengths path to include the directory (folder) we just created\n",
    "path = path+ \"\\\\\" + vid[:-4]\n",
    "#reads video and gets as video data\n",
    "videodata = skvideo.io.vread(vid)\n",
    "#gets shape of data\n",
    "shapeOfData = videodata.shape\n",
    "#Gets number of frames in video\n",
    "frames = shapeOfData[0]\n",
    "#sets up the increment at which we print out frames\n",
    "divider = frames/20\n",
    "#counter for frames\n",
    "i = 0\n",
    "#indicates number of frames printed\n",
    "f = 0\n",
    "#checkpoint at when to print frames\n",
    "checkpoint=0\n",
    "#goes through each frame in videodata and prints them out\n",
    "for frame in videodata:\n",
    "    #everytime the frame count equals the checkpoint...\n",
    "    if i==checkpoint:\n",
    "        string = ('frame'+str(i)+'.jpg')\n",
    "        cv2.imwrite(os.path.join(path, string),frame)\n",
    "        f+=1\n",
    "        #set the checkpoint to the divider times the number of frames printed\n",
    "        checkpoint = int(divider * f)\n",
    "    i+=1\n",
    "i = 0"
   ]
  },
  {
   "cell_type": "code",
   "execution_count": null,
   "metadata": {},
   "outputs": [],
   "source": []
  }
 ],
 "metadata": {
  "kernelspec": {
   "display_name": "Python 3",
   "language": "python",
   "name": "python3"
  },
  "language_info": {
   "codemirror_mode": {
    "name": "ipython",
    "version": 3
   },
   "file_extension": ".py",
   "mimetype": "text/x-python",
   "name": "python",
   "nbconvert_exporter": "python",
   "pygments_lexer": "ipython3",
   "version": "3.7.1"
  }
 },
 "nbformat": 4,
 "nbformat_minor": 2
}
