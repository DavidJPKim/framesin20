{
 "cells": [
  {
   "cell_type": "code",
   "execution_count": 2,
   "metadata": {},
   "outputs": [],
   "source": [
    "import skvideo.io\n",
    "import skvideo.datasets\n",
    "import numpy as np\n",
    "import cv2"
   ]
  },
  {
   "cell_type": "code",
   "execution_count": null,
   "metadata": {},
   "outputs": [],
   "source": [
    "#the goal of this program is to divide a video into ~20 different frames"
   ]
  },
  {
   "cell_type": "code",
   "execution_count": 4,
   "metadata": {},
   "outputs": [],
   "source": [
    "videodata = skvideo.io.vread(skvideo.datasets.bikes())\n",
    "shapeOfData = videodata.shape\n",
    "#Gets number of frames in video\n",
    "frames = shapeOfData[0]\n",
    "#sets up the increment at which we print out frames\n",
    "divider = frames/20\n",
    "#counter for frames\n",
    "i = 0\n",
    "#indicates number of frames printed\n",
    "f = 0\n",
    "#checkpoint at when to print frames\n",
    "checkpoint=0\n",
    "#goes through each frame in videodata and prints them out\n",
    "for frame in videodata:\n",
    "    #everytime the frame count equals the checkpoint...\n",
    "    if i==checkpoint:\n",
    "        #create a window named image\n",
    "        cv2.namedWindow('image', cv2.WINDOW_AUTOSIZE)\n",
    "        #show frame in said window\n",
    "        cv2.imshow('image',frame)\n",
    "        #wait 1000 miliseconds\n",
    "        cv2.waitKey(1000)\n",
    "        #close all windows\n",
    "        cv2.destroyAllWindows()\n",
    "        #the below comment will save the frames as files\n",
    "        #cv2.imwrite('frame'+str(i)+'.jpg',frame)\n",
    "        #add one to frames printed count\n",
    "        f+=1\n",
    "        #set the checkpoint to the divider times the number of frames printed\n",
    "        checkpoint = int(divider * f)\n",
    "    i+=1\n"
   ]
  },
  {
   "cell_type": "code",
   "execution_count": 37,
   "metadata": {},
   "outputs": [
    {
     "name": "stdout",
     "output_type": "stream",
     "text": [
      "12\n"
     ]
    },
    {
     "data": {
      "text/plain": [
       "12.5"
      ]
     },
     "execution_count": 37,
     "metadata": {},
     "output_type": "execute_result"
    }
   ],
   "source": [
    "def even_out(num):\n",
    "    if num%1 != 0:\n",
    "        round(num)\n",
    "        return(num)\n",
    "\n",
    "num = 12.5\n",
    "if num%1 != 0:\n",
    "    print(round(num))\n",
    "even_out(num)    "
   ]
  },
  {
   "cell_type": "code",
   "execution_count": null,
   "metadata": {},
   "outputs": [],
   "source": []
  }
 ],
 "metadata": {
  "kernelspec": {
   "display_name": "Python 3",
   "language": "python",
   "name": "python3"
  },
  "language_info": {
   "codemirror_mode": {
    "name": "ipython",
    "version": 3
   },
   "file_extension": ".py",
   "mimetype": "text/x-python",
   "name": "python",
   "nbconvert_exporter": "python",
   "pygments_lexer": "ipython3",
   "version": "3.7.1"
  }
 },
 "nbformat": 4,
 "nbformat_minor": 2
}
